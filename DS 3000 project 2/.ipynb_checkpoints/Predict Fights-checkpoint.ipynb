{
 "cells": [
  {
   "cell_type": "code",
   "execution_count": 2,
   "metadata": {},
   "outputs": [],
   "source": [
    "#data cleaning\n",
    "import pandas as pd\n",
    "import numpy as np\n",
    "fighter_info_final = pd.read_csv(\"fighter_df.csv\")"
   ]
  },
  {
   "cell_type": "code",
   "execution_count": 3,
   "metadata": {},
   "outputs": [],
   "source": [
    "to_feed = pd.read_csv(\"we_good.csv\")"
   ]
  },
  {
   "cell_type": "code",
   "execution_count": 4,
   "metadata": {},
   "outputs": [],
   "source": [
    "def features_and_target(df):\n",
    "    #slices based on columns\n",
    "    f = df.iloc[0 : , 1 : 31]\n",
    "    #retrieves target column\n",
    "    t = df[\"target\"]\n",
    "    return f, t"
   ]
  },
  {
   "cell_type": "code",
   "execution_count": 5,
   "metadata": {},
   "outputs": [],
   "source": [
    "\n",
    "features, target= features_and_target(to_feed)"
   ]
  },
  {
   "cell_type": "code",
   "execution_count": 9,
   "metadata": {},
   "outputs": [
    {
     "name": "stdout",
     "output_type": "stream",
     "text": [
      "GaussianNB(priors=None, var_smoothing=1e-09)\n",
      "0.6701807228915663\n"
     ]
    }
   ],
   "source": [
    "from sklearn.neighbors import KNeighborsClassifier\n",
    "from sklearn.svm import SVC\n",
    "from sklearn.naive_bayes import GaussianNB\n",
    "from sklearn.tree import DecisionTreeClassifier\n",
    "from sklearn.model_selection import train_test_split\n",
    "from sklearn.model_selection import KFold\n",
    "from sklearn.model_selection import cross_val_score\n",
    "\n",
    "X_train, X_test, y_train, y_test = train_test_split(features,target, random_state=3000)\n",
    "model = GaussianNB().fit(X=X_train, y=y_train)\n",
    "print(str(model))\n",
    "#predicts accuracy\n",
    "accuracy = model.score(X_test, y_test)\n",
    "#print statement and formatting\n",
    "print(accuracy)"
   ]
  },
  {
   "cell_type": "code",
   "execution_count": 10,
   "metadata": {},
   "outputs": [],
   "source": [
    "feat_tuple = [\"Reach\",\"Age\",\"SLpM\",\"SApM\",\"Str Def\",\"TD Avg\",\"TD Acc\",\"TD Def\",\"Sub Avg\",\"KO/TKO Wins\",\"SUB Wins\",\"U-DEC Wins\",\n",
    "             \"KO/TKO Losses\", \"SUB Losses\", \"U-DEC Losses\"]\n",
    "def predict_fight(fighter1, fighter2):\n",
    "    tup1 = []\n",
    "    tup2 = []\n",
    "    for feat in feat_tuple:\n",
    "        tup1.append(fighter_info_final[feat][fighter1])\n",
    "        \n",
    "    for feat in feat_tuple:\n",
    "        tup1.append(fighter_info_final[feat][fighter2])\n",
    "        tup2.append(fighter_info_final[feat][fighter2])\n",
    "        \n",
    "    for feat in feat_tuple:\n",
    "        tup2.append(fighter_info_final[feat][fighter1])\n",
    "    \n",
    "    result1 = model.predict([tup1])[0]\n",
    "    result2 = model.predict([tup2])[0]\n",
    "    if(result1 == result2):\n",
    "        return \"Not Sure. Close Fight.\"\n",
    "    elif(result1 == 1):\n",
    "        return fighter1\n",
    "    else:\n",
    "        return fighter2"
   ]
  },
  {
   "cell_type": "code",
   "execution_count": 11,
   "metadata": {},
   "outputs": [],
   "source": [
    "fighter_info_final.index = fighter_info_final[\"Name\"]"
   ]
  },
  {
   "cell_type": "code",
   "execution_count": 13,
   "metadata": {},
   "outputs": [
    {
     "data": {
      "text/plain": [
       "'Khabib Nurmagomedov'"
      ]
     },
     "execution_count": 13,
     "metadata": {},
     "output_type": "execute_result"
    }
   ],
   "source": [
    "predict_fight(\"Conor McGregor\",\"Khabib Nurmagomedov\")"
   ]
  },
  {
   "cell_type": "code",
   "execution_count": null,
   "metadata": {},
   "outputs": [],
   "source": []
  }
 ],
 "metadata": {
  "kernelspec": {
   "display_name": "Python 3",
   "language": "python",
   "name": "python3"
  },
  "language_info": {
   "codemirror_mode": {
    "name": "ipython",
    "version": 3
   },
   "file_extension": ".py",
   "mimetype": "text/x-python",
   "name": "python",
   "nbconvert_exporter": "python",
   "pygments_lexer": "ipython3",
   "version": "3.7.3"
  }
 },
 "nbformat": 4,
 "nbformat_minor": 2
}
